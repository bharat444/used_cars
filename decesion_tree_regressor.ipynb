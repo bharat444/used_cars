{
  "nbformat": 4,
  "nbformat_minor": 0,
  "metadata": {
    "colab": {
      "provenance": []
    },
    "kernelspec": {
      "name": "python3",
      "display_name": "Python 3"
    },
    "language_info": {
      "name": "python"
    }
  },
  "cells": [
    {
      "cell_type": "code",
      "execution_count": 50,
      "metadata": {
        "id": "xpbfiIA4Vp83"
      },
      "outputs": [],
      "source": [
        "import pandas as pd\n",
        "import numpy as np\n",
        "\n",
        "from sklearn.tree import DecisionTreeRegressor\n",
        "from sklearn.preprocessing import LabelEncoder\n",
        "from sklearn.model_selection import train_test_split\n",
        "from sklearn.preprocessing import OneHotEncoder\n",
        "from sklearn.impute import SimpleImputer\n",
        "from sklearn.model_selection import cross_val_score\n",
        "\n",
        "\n",
        "from sklearn.metrics import mean_squared_error, r2_score\n",
        "\n",
        "import warnings\n",
        "warnings.filterwarnings('ignore')"
      ]
    },
    {
      "cell_type": "code",
      "source": [
        "from google.colab import drive\n",
        "drive.mount('/content/drive')\n",
        "\n",
        "# train_data_path = '/content/drive/My Drive/train_data.csv'\n",
        "# test_data_path='/content/drive/My Drive/test_data.csv'\n",
        "vehicle_data_path = '/content/drive/My Drive/vehicle_dataset/vehicle_dataset.csv'"
      ],
      "metadata": {
        "colab": {
          "base_uri": "https://localhost:8080/"
        },
        "id": "pOSR3Zni0-Q8",
        "outputId": "89ac8c79-d44e-4960-b04c-294cefe2d7b0"
      },
      "execution_count": 51,
      "outputs": [
        {
          "output_type": "stream",
          "name": "stdout",
          "text": [
            "Drive already mounted at /content/drive; to attempt to forcibly remount, call drive.mount(\"/content/drive\", force_remount=True).\n"
          ]
        }
      ]
    },
    {
      "cell_type": "code",
      "source": [
        "# load data\n",
        "vehicle_data=pd.read_csv(vehicle_data_path)\n",
        "vehicle_data = vehicle_data.dropna()\n"
      ],
      "metadata": {
        "id": "T_SD6MW87dT_"
      },
      "execution_count": 52,
      "outputs": []
    },
    {
      "cell_type": "code",
      "source": [
        "X = vehicle_data.drop(columns=['price'])\n",
        "y = vehicle_data['price']"
      ],
      "metadata": {
        "id": "MZp2Xpmv3sT3"
      },
      "execution_count": 53,
      "outputs": []
    },
    {
      "cell_type": "code",
      "source": [
        "columns=X.columns\n",
        "columns"
      ],
      "metadata": {
        "colab": {
          "base_uri": "https://localhost:8080/"
        },
        "id": "efRndvNrAG2Y",
        "outputId": "36db438d-1ec8-46c3-d53d-9dc6de57b15f"
      },
      "execution_count": 54,
      "outputs": [
        {
          "output_type": "execute_result",
          "data": {
            "text/plain": [
              "Index(['year', 'manufacturer', 'model', 'condition', 'cylinders', 'fuel',\n",
              "       'odometer', 'title_status', 'transmission', 'drive', 'size', 'type',\n",
              "       'paint_color', 'state', 'lat', 'long'],\n",
              "      dtype='object')"
            ]
          },
          "metadata": {},
          "execution_count": 54
        }
      ]
    },
    {
      "cell_type": "code",
      "source": [
        "X_train, X_test, y_train, y_test = train_test_split(X, y, test_size=0.2, random_state=42)\n",
        "print('Print X_train: {}'.format(X_train.shape[0]))\n",
        "print('Print y_train: {}'.format(y_train.shape[0]))\n",
        "print('Print X_test: {}'.format(X_test.shape[0]))\n",
        "print('Print y_test: {}'.format(y_test.shape[0]))"
      ],
      "metadata": {
        "colab": {
          "base_uri": "https://localhost:8080/"
        },
        "id": "6ACDTd_Z4vER",
        "outputId": "c7f01a37-71e7-427d-c992-9485cc0ebeed"
      },
      "execution_count": 55,
      "outputs": [
        {
          "output_type": "stream",
          "name": "stdout",
          "text": [
            "Print X_train: 46512\n",
            "Print y_train: 46512\n",
            "Print X_test: 11628\n",
            "Print y_test: 11628\n"
          ]
        }
      ]
    },
    {
      "cell_type": "code",
      "source": [
        "# X_test = X_test[X_test['model'].isin(X_train['model'])]\n",
        "# print('Print X_test: {}'.format(X_test.shape[0]))\n",
        "\n",
        "# # Remove corresponding rows from y_test\n",
        "# y_test = y_test[y_test.index.isin(X_test.index)]\n",
        "# print('Print y_test: {}'.format(y_test.shape[0]))\n",
        "\n",
        "# Iterate over each column in X_test\n",
        "for column in X_test.columns:\n",
        "    # Remove rows from X_test based on the column values present in X_train\n",
        "    X_test = X_test[X_test[column].isin(X_train[column])]\n",
        "    print('Print X_test after removing rows based on {}: {}'.format(column, X_test.shape[0]))\n",
        "\n",
        "    # Remove corresponding rows from y_test\n",
        "    y_test = y_test[y_test.index.isin(X_test.index)]\n",
        "    print('Print y_test after removing rows based on {}: {}'.format(column, y_test.shape[0]))\n"
      ],
      "metadata": {
        "colab": {
          "base_uri": "https://localhost:8080/"
        },
        "id": "4qTMQA9p7z3S",
        "outputId": "1b7a606b-db89-4932-f00e-b288abbb3d59"
      },
      "execution_count": 56,
      "outputs": [
        {
          "output_type": "stream",
          "name": "stdout",
          "text": [
            "Print X_test after removing rows based on year: 11625\n",
            "Print y_test after removing rows based on year: 11625\n",
            "Print X_test after removing rows based on manufacturer: 11625\n",
            "Print y_test after removing rows based on manufacturer: 11625\n",
            "Print X_test after removing rows based on model: 11059\n",
            "Print y_test after removing rows based on model: 11059\n",
            "Print X_test after removing rows based on condition: 11059\n",
            "Print y_test after removing rows based on condition: 11059\n",
            "Print X_test after removing rows based on cylinders: 11059\n",
            "Print y_test after removing rows based on cylinders: 11059\n",
            "Print X_test after removing rows based on fuel: 11059\n",
            "Print y_test after removing rows based on fuel: 11059\n",
            "Print X_test after removing rows based on odometer: 7909\n",
            "Print y_test after removing rows based on odometer: 7909\n",
            "Print X_test after removing rows based on title_status: 7909\n",
            "Print y_test after removing rows based on title_status: 7909\n",
            "Print X_test after removing rows based on transmission: 7909\n",
            "Print y_test after removing rows based on transmission: 7909\n",
            "Print X_test after removing rows based on drive: 7909\n",
            "Print y_test after removing rows based on drive: 7909\n",
            "Print X_test after removing rows based on size: 7909\n",
            "Print y_test after removing rows based on size: 7909\n",
            "Print X_test after removing rows based on type: 7909\n",
            "Print y_test after removing rows based on type: 7909\n",
            "Print X_test after removing rows based on paint_color: 7909\n",
            "Print y_test after removing rows based on paint_color: 7909\n",
            "Print X_test after removing rows based on state: 7909\n",
            "Print y_test after removing rows based on state: 7909\n",
            "Print X_test after removing rows based on lat: 5944\n",
            "Print y_test after removing rows based on lat: 5944\n",
            "Print X_test after removing rows based on long: 5834\n",
            "Print y_test after removing rows based on long: 5834\n"
          ]
        }
      ]
    },
    {
      "cell_type": "code",
      "source": [
        "# imputer = SimpleImputer(strategy='most_frequent')\n",
        "\n",
        "# # Fit the imputer on the training data and transform both training and test data\n",
        "# X_train= imputer.fit_transform(X_train)\n",
        "# X_test= imputer.transform(X_test)"
      ],
      "metadata": {
        "id": "x61fG2qo9GDo"
      },
      "execution_count": 57,
      "outputs": []
    },
    {
      "cell_type": "code",
      "source": [
        "# print(X_train)"
      ],
      "metadata": {
        "id": "9FgTNvwV-6cJ"
      },
      "execution_count": 58,
      "outputs": []
    },
    {
      "cell_type": "code",
      "source": [
        "# X_train = pd.DataFrame(X_train, columns=columns)\n",
        "# X_test = pd.DataFrame(X_test, columns=columns)\n",
        "\n",
        "label_encoders = {}\n",
        "\n",
        "# Encode categorical features in training data\n",
        "for feature in X_train.columns[X_train.dtypes == 'object']:\n",
        "    label_encoders[feature] = LabelEncoder()\n",
        "    X_train[feature] = label_encoders[feature].fit_transform(X_train[feature])\n",
        "\n",
        "\n",
        "print(X_train.shape[0])\n",
        "\n",
        "print(label_encoders)\n",
        "\n",
        "for feature in X_test.columns[X_test.dtypes == 'object']:\n",
        "    X_test[feature] = label_encoders[feature].transform(X_test[feature])\n"
      ],
      "metadata": {
        "id": "Uhyqr5x4yqIF",
        "colab": {
          "base_uri": "https://localhost:8080/"
        },
        "outputId": "1b4f0c04-12bf-4cc0-8b6e-a063f0a4f93b"
      },
      "execution_count": 59,
      "outputs": [
        {
          "output_type": "stream",
          "name": "stdout",
          "text": [
            "46512\n",
            "{'manufacturer': LabelEncoder(), 'model': LabelEncoder(), 'condition': LabelEncoder(), 'cylinders': LabelEncoder(), 'fuel': LabelEncoder(), 'title_status': LabelEncoder(), 'transmission': LabelEncoder(), 'drive': LabelEncoder(), 'size': LabelEncoder(), 'type': LabelEncoder(), 'paint_color': LabelEncoder(), 'state': LabelEncoder()}\n"
          ]
        }
      ]
    },
    {
      "cell_type": "code",
      "source": [
        "regressor = DecisionTreeRegressor(random_state = 0)"
      ],
      "metadata": {
        "id": "U-7Pp8xlWvoA"
      },
      "execution_count": 60,
      "outputs": []
    },
    {
      "cell_type": "code",
      "source": [
        "regressor.fit(X_train,y_train)"
      ],
      "metadata": {
        "colab": {
          "base_uri": "https://localhost:8080/",
          "height": 74
        },
        "id": "PNhNghMIwy4T",
        "outputId": "ee9351c9-83a9-4637-9007-7d40d9d5b01b"
      },
      "execution_count": 61,
      "outputs": [
        {
          "output_type": "execute_result",
          "data": {
            "text/plain": [
              "DecisionTreeRegressor(random_state=0)"
            ],
            "text/html": [
              "<style>#sk-container-id-2 {color: black;background-color: white;}#sk-container-id-2 pre{padding: 0;}#sk-container-id-2 div.sk-toggleable {background-color: white;}#sk-container-id-2 label.sk-toggleable__label {cursor: pointer;display: block;width: 100%;margin-bottom: 0;padding: 0.3em;box-sizing: border-box;text-align: center;}#sk-container-id-2 label.sk-toggleable__label-arrow:before {content: \"▸\";float: left;margin-right: 0.25em;color: #696969;}#sk-container-id-2 label.sk-toggleable__label-arrow:hover:before {color: black;}#sk-container-id-2 div.sk-estimator:hover label.sk-toggleable__label-arrow:before {color: black;}#sk-container-id-2 div.sk-toggleable__content {max-height: 0;max-width: 0;overflow: hidden;text-align: left;background-color: #f0f8ff;}#sk-container-id-2 div.sk-toggleable__content pre {margin: 0.2em;color: black;border-radius: 0.25em;background-color: #f0f8ff;}#sk-container-id-2 input.sk-toggleable__control:checked~div.sk-toggleable__content {max-height: 200px;max-width: 100%;overflow: auto;}#sk-container-id-2 input.sk-toggleable__control:checked~label.sk-toggleable__label-arrow:before {content: \"▾\";}#sk-container-id-2 div.sk-estimator input.sk-toggleable__control:checked~label.sk-toggleable__label {background-color: #d4ebff;}#sk-container-id-2 div.sk-label input.sk-toggleable__control:checked~label.sk-toggleable__label {background-color: #d4ebff;}#sk-container-id-2 input.sk-hidden--visually {border: 0;clip: rect(1px 1px 1px 1px);clip: rect(1px, 1px, 1px, 1px);height: 1px;margin: -1px;overflow: hidden;padding: 0;position: absolute;width: 1px;}#sk-container-id-2 div.sk-estimator {font-family: monospace;background-color: #f0f8ff;border: 1px dotted black;border-radius: 0.25em;box-sizing: border-box;margin-bottom: 0.5em;}#sk-container-id-2 div.sk-estimator:hover {background-color: #d4ebff;}#sk-container-id-2 div.sk-parallel-item::after {content: \"\";width: 100%;border-bottom: 1px solid gray;flex-grow: 1;}#sk-container-id-2 div.sk-label:hover label.sk-toggleable__label {background-color: #d4ebff;}#sk-container-id-2 div.sk-serial::before {content: \"\";position: absolute;border-left: 1px solid gray;box-sizing: border-box;top: 0;bottom: 0;left: 50%;z-index: 0;}#sk-container-id-2 div.sk-serial {display: flex;flex-direction: column;align-items: center;background-color: white;padding-right: 0.2em;padding-left: 0.2em;position: relative;}#sk-container-id-2 div.sk-item {position: relative;z-index: 1;}#sk-container-id-2 div.sk-parallel {display: flex;align-items: stretch;justify-content: center;background-color: white;position: relative;}#sk-container-id-2 div.sk-item::before, #sk-container-id-2 div.sk-parallel-item::before {content: \"\";position: absolute;border-left: 1px solid gray;box-sizing: border-box;top: 0;bottom: 0;left: 50%;z-index: -1;}#sk-container-id-2 div.sk-parallel-item {display: flex;flex-direction: column;z-index: 1;position: relative;background-color: white;}#sk-container-id-2 div.sk-parallel-item:first-child::after {align-self: flex-end;width: 50%;}#sk-container-id-2 div.sk-parallel-item:last-child::after {align-self: flex-start;width: 50%;}#sk-container-id-2 div.sk-parallel-item:only-child::after {width: 0;}#sk-container-id-2 div.sk-dashed-wrapped {border: 1px dashed gray;margin: 0 0.4em 0.5em 0.4em;box-sizing: border-box;padding-bottom: 0.4em;background-color: white;}#sk-container-id-2 div.sk-label label {font-family: monospace;font-weight: bold;display: inline-block;line-height: 1.2em;}#sk-container-id-2 div.sk-label-container {text-align: center;}#sk-container-id-2 div.sk-container {/* jupyter's `normalize.less` sets `[hidden] { display: none; }` but bootstrap.min.css set `[hidden] { display: none !important; }` so we also need the `!important` here to be able to override the default hidden behavior on the sphinx rendered scikit-learn.org. See: https://github.com/scikit-learn/scikit-learn/issues/21755 */display: inline-block !important;position: relative;}#sk-container-id-2 div.sk-text-repr-fallback {display: none;}</style><div id=\"sk-container-id-2\" class=\"sk-top-container\"><div class=\"sk-text-repr-fallback\"><pre>DecisionTreeRegressor(random_state=0)</pre><b>In a Jupyter environment, please rerun this cell to show the HTML representation or trust the notebook. <br />On GitHub, the HTML representation is unable to render, please try loading this page with nbviewer.org.</b></div><div class=\"sk-container\" hidden><div class=\"sk-item\"><div class=\"sk-estimator sk-toggleable\"><input class=\"sk-toggleable__control sk-hidden--visually\" id=\"sk-estimator-id-2\" type=\"checkbox\" checked><label for=\"sk-estimator-id-2\" class=\"sk-toggleable__label sk-toggleable__label-arrow\">DecisionTreeRegressor</label><div class=\"sk-toggleable__content\"><pre>DecisionTreeRegressor(random_state=0)</pre></div></div></div></div></div>"
            ]
          },
          "metadata": {},
          "execution_count": 61
        }
      ]
    },
    {
      "cell_type": "code",
      "source": [
        "model_name = type(regressor).__name__\n",
        "print(model_name)\n",
        "\n",
        "# Making predictions on the same data or new data\n",
        "predictions = regressor.predict(X_train)\n",
        "\n",
        "print('\\nTraining Scores')\n",
        "\n",
        "# Evaluating the model\n",
        "mse = mean_squared_error(y_train, predictions)\n",
        "print(f'Mean Squared Error: {mse}')\n",
        "\n",
        "r2 = r2_score(y_train, predictions)\n",
        "print(f'R-squared: {r2}')\n",
        "\n",
        "test_predictions = regressor.predict(X_test)\n",
        "\n",
        "\n",
        "print('\\nTest Scores')\n",
        "# Evaluating the model\n",
        "mse = mean_squared_error(y_test, test_predictions)\n",
        "print(f'Mean Squared Error: {mse}')\n",
        "\n",
        "r2 = r2_score(y_test, test_predictions)\n",
        "print(f'R-squared: {r2}')"
      ],
      "metadata": {
        "colab": {
          "base_uri": "https://localhost:8080/"
        },
        "id": "ceXSuxIvw8Rp",
        "outputId": "d81fa611-14cd-4d5d-e5bb-329c208324dd"
      },
      "execution_count": 62,
      "outputs": [
        {
          "output_type": "stream",
          "name": "stdout",
          "text": [
            "DecisionTreeRegressor\n",
            "\n",
            "Training Scores\n",
            "Mean Squared Error: 218456545897.98773\n",
            "R-squared: 0.999332926999561\n",
            "\n",
            "Test Scores\n",
            "Mean Squared Error: 28503294.74418471\n",
            "R-squared: 0.8034276258933973\n"
          ]
        }
      ]
    }
  ]
}
